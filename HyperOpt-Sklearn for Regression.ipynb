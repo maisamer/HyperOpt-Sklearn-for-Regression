{
 "cells": [
  {
   "cell_type": "markdown",
   "metadata": {},
   "source": [
    "# HyperOpt-Sklearn for Regression\n",
    "we will use HyperOpt-Sklearn to discover a model for the housing dataset."
   ]
  },
  {
   "cell_type": "code",
   "execution_count": 1,
   "metadata": {},
   "outputs": [
    {
     "name": "stdout",
     "output_type": "stream",
     "text": [
      "WARN: OMP_NUM_THREADS=None =>\n",
      "... If you are using openblas if you are using openblas set OMP_NUM_THREADS=1 or risk subprocess calls hanging indefinitely\n"
     ]
    }
   ],
   "source": [
    "#imprt libraries\n",
    "from pandas import read_csv\n",
    "from sklearn.model_selection import train_test_split\n",
    "from sklearn.metrics import mean_absolute_error\n",
    "from hpsklearn import HyperoptEstimator\n",
    "from hpsklearn import any_regressor\n",
    "from hpsklearn import any_preprocessing\n",
    "from hyperopt import tpe"
   ]
  },
  {
   "cell_type": "code",
   "execution_count": 2,
   "metadata": {},
   "outputs": [
    {
     "name": "stdout",
     "output_type": "stream",
     "text": [
      "(506, 13) (506,)\n"
     ]
    }
   ],
   "source": [
    "# load dataset\n",
    "url = 'https://raw.githubusercontent.com/jbrownlee/Datasets/master/housing.csv'\n",
    "dataframe = read_csv(url, header=None)\n",
    "# split into input and output elements\n",
    "data = dataframe.values\n",
    "X, y = data[:, :-1], data[:, -1]\n",
    "print(X.shape, y.shape)"
   ]
  },
  {
   "cell_type": "code",
   "execution_count": 3,
   "metadata": {},
   "outputs": [],
   "source": [
    "# split into train and test sets\n",
    "X_train, X_test, y_train, y_test = train_test_split(X, y, test_size=0.33, random_state=1)"
   ]
  },
  {
   "cell_type": "code",
   "execution_count": 4,
   "metadata": {},
   "outputs": [],
   "source": [
    "# define search\n",
    "model = HyperoptEstimator(regressor=any_regressor('reg'), preprocessing=any_preprocessing('pre'), loss_fn=mean_absolute_error, algo=tpe.suggest, max_evals=50, trial_timeout=30)"
   ]
  },
  {
   "cell_type": "code",
   "execution_count": 5,
   "metadata": {},
   "outputs": [
    {
     "name": "stdout",
     "output_type": "stream",
     "text": [
      "100%|██████████| 1/1 [00:00<00:00,  2.93trial/s, best loss: 2.26128122481869]\n",
      "100%|██████████| 2/2 [00:00<00:00, 15.72trial/s, best loss: 2.26128122481869]\n",
      " 67%|██████▋   | 2/3 [00:00<?, ?trial/s, best loss=?]"
     ]
    },
    {
     "name": "stderr",
     "output_type": "stream",
     "text": [
      "/home/mai/anaconda3/lib/python3.8/site-packages/sklearn/ensemble/_gb.py:1337: FutureWarning: The parameter 'presort' is deprecated and has no effect. It will be removed in v0.24. You can suppress this warning by not passing any value to the 'presort' parameter. We also recommend using HistGradientBoosting models instead.\n",
      "  warnings.warn(\"The parameter 'presort' is deprecated and has no \"\n",
      "\n"
     ]
    },
    {
     "name": "stdout",
     "output_type": "stream",
     "text": [
      "100%|██████████| 3/3 [00:00<00:00, 30.72trial/s, best loss: 2.26128122481869]\n",
      "[23:39:06] WARNING: ../src/objective/regression_obj.cu:174: reg:linear is now deprecated in favor of reg:squarederror.\n",
      "[23:39:06] WARNING: ../src/objective/regression_obj.cu:174: reg:linear is now deprecated in favor of reg:squarederror.\n",
      "100%|██████████| 4/4 [00:00<00:00,  7.39trial/s, best loss: 2.26128122481869]\n",
      "100%|██████████| 5/5 [00:00<00:00, 40.02trial/s, best loss: 2.26128122481869]\n",
      "100%|██████████| 6/6 [00:00<00:00, 10.03trial/s, best loss: 2.26128122481869]\n",
      "100%|██████████| 7/7 [00:00<00:00, 127.07trial/s, best loss: 2.26128122481869]\n",
      " 88%|████████▊ | 7/8 [00:00<?, ?trial/s, best loss=?]"
     ]
    },
    {
     "name": "stderr",
     "output_type": "stream",
     "text": [
      "/home/mai/anaconda3/lib/python3.8/site-packages/sklearn/ensemble/_gb.py:1337: FutureWarning: The parameter 'presort' is deprecated and has no effect. It will be removed in v0.24. You can suppress this warning by not passing any value to the 'presort' parameter. We also recommend using HistGradientBoosting models instead.\n",
      "  warnings.warn(\"The parameter 'presort' is deprecated and has no \"\n",
      "\n"
     ]
    },
    {
     "name": "stdout",
     "output_type": "stream",
     "text": [
      "100%|██████████| 8/8 [00:00<00:00, 30.13trial/s, best loss: 2.1510368488934497]\n",
      "100%|██████████| 9/9 [00:00<00:00, 167.89trial/s, best loss: 2.1510368488934497]\n",
      "100%|██████████| 10/10 [00:00<00:00, 70.85trial/s, best loss: 2.1510368488934497]\n",
      "[23:39:08] WARNING: ../src/objective/regression_obj.cu:174: reg:linear is now deprecated in favor of reg:squarederror.\n",
      "[23:39:09] WARNING: ../src/objective/regression_obj.cu:174: reg:linear is now deprecated in favor of reg:squarederror.\n",
      "100%|██████████| 11/11 [00:00<00:00, 42.48trial/s, best loss: 2.1510368488934497]\n",
      "100%|██████████| 12/12 [00:00<00:00, 68.60trial/s, best loss: 2.1510368488934497]\n",
      "100%|██████████| 13/13 [00:00<00:00, 86.31trial/s, best loss: 2.1510368488934497]\n",
      "100%|██████████| 14/14 [00:00<00:00, 38.24trial/s, best loss: 2.1510368488934497]\n",
      " 93%|█████████▎| 14/15 [00:00<?, ?trial/s, best loss=?]"
     ]
    },
    {
     "name": "stderr",
     "output_type": "stream",
     "text": [
      "/home/mai/anaconda3/lib/python3.8/site-packages/sklearn/ensemble/_gb.py:1337: FutureWarning: The parameter 'presort' is deprecated and has no effect. It will be removed in v0.24. You can suppress this warning by not passing any value to the 'presort' parameter. We also recommend using HistGradientBoosting models instead.\n",
      "  warnings.warn(\"The parameter 'presort' is deprecated and has no \"\n",
      "\n"
     ]
    },
    {
     "name": "stdout",
     "output_type": "stream",
     "text": [
      "100%|██████████| 15/15 [00:00<00:00, 30.76trial/s, best loss: 2.1510368488934497]\n",
      "100%|██████████| 16/16 [00:02<00:00,  6.22trial/s, best loss: 2.1510368488934497]\n",
      " 94%|█████████▍| 16/17 [00:00<?, ?trial/s, best loss=?]"
     ]
    },
    {
     "name": "stderr",
     "output_type": "stream",
     "text": [
      "/home/mai/anaconda3/lib/python3.8/site-packages/sklearn/ensemble/_gb.py:1337: FutureWarning: The parameter 'presort' is deprecated and has no effect. It will be removed in v0.24. You can suppress this warning by not passing any value to the 'presort' parameter. We also recommend using HistGradientBoosting models instead.\n",
      "  warnings.warn(\"The parameter 'presort' is deprecated and has no \"\n",
      "\n"
     ]
    },
    {
     "name": "stdout",
     "output_type": "stream",
     "text": [
      "100%|██████████| 17/17 [00:00<00:00, 67.77trial/s, best loss: 2.0724645284144607]\n",
      "100%|██████████| 18/18 [00:00<00:00, 150.46trial/s, best loss: 2.0724645284144607]\n",
      " 95%|█████████▍| 18/19 [00:00<?, ?trial/s, best loss=?]"
     ]
    },
    {
     "name": "stderr",
     "output_type": "stream",
     "text": [
      "/home/mai/anaconda3/lib/python3.8/site-packages/sklearn/ensemble/_gb.py:1337: FutureWarning: The parameter 'presort' is deprecated and has no effect. It will be removed in v0.24. You can suppress this warning by not passing any value to the 'presort' parameter. We also recommend using HistGradientBoosting models instead.\n",
      "  warnings.warn(\"The parameter 'presort' is deprecated and has no \"\n",
      "\n"
     ]
    },
    {
     "name": "stdout",
     "output_type": "stream",
     "text": [
      "100%|██████████| 19/19 [00:01<00:00, 16.46trial/s, best loss: 2.0067455720447875]\n",
      "100%|██████████| 20/20 [00:02<00:00,  6.75trial/s, best loss: 2.0067455720447875]\n",
      "100%|██████████| 21/21 [00:00<00:00, 86.95trial/s, best loss: 2.0067455720447875]\n",
      " 95%|█████████▌| 21/22 [00:00<?, ?trial/s, best loss=?]"
     ]
    },
    {
     "name": "stderr",
     "output_type": "stream",
     "text": [
      "/home/mai/anaconda3/lib/python3.8/site-packages/sklearn/ensemble/_gb.py:1337: FutureWarning: The parameter 'presort' is deprecated and has no effect. It will be removed in v0.24. You can suppress this warning by not passing any value to the 'presort' parameter. We also recommend using HistGradientBoosting models instead.\n",
      "  warnings.warn(\"The parameter 'presort' is deprecated and has no \"\n",
      "\n"
     ]
    },
    {
     "name": "stdout",
     "output_type": "stream",
     "text": [
      "100%|██████████| 22/22 [00:01<00:00, 18.73trial/s, best loss: 2.0067455720447875]\n",
      " 96%|█████████▌| 22/23 [00:00<?, ?trial/s, best loss=?]"
     ]
    },
    {
     "name": "stderr",
     "output_type": "stream",
     "text": [
      "/home/mai/anaconda3/lib/python3.8/site-packages/sklearn/ensemble/_gb.py:1337: FutureWarning: The parameter 'presort' is deprecated and has no effect. It will be removed in v0.24. You can suppress this warning by not passing any value to the 'presort' parameter. We also recommend using HistGradientBoosting models instead.\n",
      "  warnings.warn(\"The parameter 'presort' is deprecated and has no \"\n",
      "\n"
     ]
    },
    {
     "name": "stdout",
     "output_type": "stream",
     "text": [
      "100%|██████████| 23/23 [00:00<00:00, 65.09trial/s, best loss: 1.8734821444704821]\n",
      "100%|██████████| 24/24 [00:01<00:00, 18.26trial/s, best loss: 1.8734821444704821]\n",
      "100%|██████████| 25/25 [00:00<00:00, 120.52trial/s, best loss: 1.8734821444704821]\n",
      " 96%|█████████▌| 25/26 [00:00<?, ?trial/s, best loss=?]"
     ]
    },
    {
     "name": "stderr",
     "output_type": "stream",
     "text": [
      "/home/mai/anaconda3/lib/python3.8/site-packages/sklearn/ensemble/_gb.py:1337: FutureWarning: The parameter 'presort' is deprecated and has no effect. It will be removed in v0.24. You can suppress this warning by not passing any value to the 'presort' parameter. We also recommend using HistGradientBoosting models instead.\n",
      "  warnings.warn(\"The parameter 'presort' is deprecated and has no \"\n",
      "\n"
     ]
    },
    {
     "name": "stdout",
     "output_type": "stream",
     "text": [
      "100%|██████████| 26/26 [00:00<00:00, 59.63trial/s, best loss: 1.8734821444704821]\n",
      " 96%|█████████▋| 26/27 [00:00<?, ?trial/s, best loss=?]"
     ]
    },
    {
     "name": "stderr",
     "output_type": "stream",
     "text": [
      "/home/mai/anaconda3/lib/python3.8/site-packages/sklearn/ensemble/_gb.py:1337: FutureWarning: The parameter 'presort' is deprecated and has no effect. It will be removed in v0.24. You can suppress this warning by not passing any value to the 'presort' parameter. We also recommend using HistGradientBoosting models instead.\n",
      "  warnings.warn(\"The parameter 'presort' is deprecated and has no \"\n",
      "\n"
     ]
    },
    {
     "name": "stdout",
     "output_type": "stream",
     "text": [
      "100%|██████████| 27/27 [00:00<00:00, 106.27trial/s, best loss: 1.8734821444704821]\n",
      " 96%|█████████▋| 27/28 [00:00<?, ?trial/s, best loss=?]"
     ]
    },
    {
     "name": "stderr",
     "output_type": "stream",
     "text": [
      "/home/mai/anaconda3/lib/python3.8/site-packages/sklearn/ensemble/_gb.py:1337: FutureWarning: The parameter 'presort' is deprecated and has no effect. It will be removed in v0.24. You can suppress this warning by not passing any value to the 'presort' parameter. We also recommend using HistGradientBoosting models instead.\n",
      "  warnings.warn(\"The parameter 'presort' is deprecated and has no \"\n",
      "\n"
     ]
    },
    {
     "name": "stdout",
     "output_type": "stream",
     "text": [
      "100%|██████████| 28/28 [00:00<00:00, 29.46trial/s, best loss: 1.8734821444704821]\n",
      "100%|██████████| 29/29 [00:00<00:00, 140.50trial/s, best loss: 1.8734821444704821]\n",
      "100%|██████████| 30/30 [00:00<00:00, 248.70trial/s, best loss: 1.8734821444704821]\n",
      "100%|██████████| 31/31 [00:00<00:00, 41.59trial/s, best loss: 1.8734821444704821]\n",
      " 97%|█████████▋| 31/32 [00:00<?, ?trial/s, best loss=?]"
     ]
    },
    {
     "name": "stderr",
     "output_type": "stream",
     "text": [
      "/home/mai/anaconda3/lib/python3.8/site-packages/sklearn/ensemble/_gb.py:1337: FutureWarning: The parameter 'presort' is deprecated and has no effect. It will be removed in v0.24. You can suppress this warning by not passing any value to the 'presort' parameter. We also recommend using HistGradientBoosting models instead.\n",
      "  warnings.warn(\"The parameter 'presort' is deprecated and has no \"\n",
      "\n"
     ]
    },
    {
     "name": "stdout",
     "output_type": "stream",
     "text": [
      "100%|██████████| 32/32 [00:01<00:00, 28.32trial/s, best loss: 1.8734821444704821]\n",
      " 97%|█████████▋| 32/33 [00:00<?, ?trial/s, best loss=?]"
     ]
    },
    {
     "name": "stderr",
     "output_type": "stream",
     "text": [
      "/home/mai/anaconda3/lib/python3.8/site-packages/sklearn/ensemble/_gb.py:1337: FutureWarning: The parameter 'presort' is deprecated and has no effect. It will be removed in v0.24. You can suppress this warning by not passing any value to the 'presort' parameter. We also recommend using HistGradientBoosting models instead.\n",
      "  warnings.warn(\"The parameter 'presort' is deprecated and has no \"\n",
      "\n"
     ]
    },
    {
     "name": "stdout",
     "output_type": "stream",
     "text": [
      "100%|██████████| 33/33 [00:01<00:00, 26.22trial/s, best loss: 1.8734821444704821]\n",
      "[23:39:28] WARNING: ../src/objective/regression_obj.cu:174: reg:linear is now deprecated in favor of reg:squarederror.\n",
      "[23:39:28] WARNING: ../src/objective/regression_obj.cu:174: reg:linear is now deprecated in favor of reg:squarederror.\n",
      "100%|██████████| 34/34 [00:00<00:00, 42.04trial/s, best loss: 1.8734821444704821]\n",
      "100%|██████████| 35/35 [00:00<00:00, 311.82trial/s, best loss: 1.8734821444704821]\n",
      " 97%|█████████▋| 35/36 [00:00<?, ?trial/s, best loss=?]"
     ]
    },
    {
     "name": "stderr",
     "output_type": "stream",
     "text": [
      "/home/mai/anaconda3/lib/python3.8/site-packages/sklearn/ensemble/_gb.py:1337: FutureWarning: The parameter 'presort' is deprecated and has no effect. It will be removed in v0.24. You can suppress this warning by not passing any value to the 'presort' parameter. We also recommend using HistGradientBoosting models instead.\n",
      "  warnings.warn(\"The parameter 'presort' is deprecated and has no \"\n",
      "\n"
     ]
    },
    {
     "name": "stdout",
     "output_type": "stream",
     "text": [
      "100%|██████████| 36/36 [00:00<00:00, 132.60trial/s, best loss: 1.8734821444704821]\n",
      "[23:39:29] WARNING: ../src/objective/regression_obj.cu:174: reg:linear is now deprecated in favor of reg:squarederror.\n",
      "[23:39:29] WARNING: ../src/objective/regression_obj.cu:174: reg:linear is now deprecated in favor of reg:squarederror.\n",
      "100%|██████████| 37/37 [00:00<00:00, 203.27trial/s, best loss: 1.8734821444704821]\n",
      "100%|██████████| 38/38 [00:00<00:00, 332.60trial/s, best loss: 1.8734821444704821]\n",
      "100%|██████████| 39/39 [00:00<00:00, 326.14trial/s, best loss: 1.8734821444704821]\n",
      "100%|██████████| 40/40 [00:00<00:00, 212.51trial/s, best loss: 1.8734821444704821]\n",
      " 98%|█████████▊| 40/41 [00:00<?, ?trial/s, best loss=?]"
     ]
    },
    {
     "name": "stderr",
     "output_type": "stream",
     "text": [
      "/home/mai/anaconda3/lib/python3.8/site-packages/sklearn/ensemble/_gb.py:1337: FutureWarning: The parameter 'presort' is deprecated and has no effect. It will be removed in v0.24. You can suppress this warning by not passing any value to the 'presort' parameter. We also recommend using HistGradientBoosting models instead.\n",
      "  warnings.warn(\"The parameter 'presort' is deprecated and has no \"\n",
      "\n"
     ]
    },
    {
     "name": "stdout",
     "output_type": "stream",
     "text": [
      "100%|██████████| 41/41 [00:01<00:00, 24.93trial/s, best loss: 1.8734821444704821]\n",
      "100%|██████████| 42/42 [00:00<00:00, 278.68trial/s, best loss: 1.8734821444704821]\n",
      "100%|██████████| 43/43 [00:00<00:00, 328.47trial/s, best loss: 1.8734821444704821]\n",
      " 98%|█████████▊| 43/44 [00:00<?, ?trial/s, best loss=?]"
     ]
    },
    {
     "name": "stderr",
     "output_type": "stream",
     "text": [
      "/home/mai/anaconda3/lib/python3.8/site-packages/sklearn/ensemble/_gb.py:1337: FutureWarning: The parameter 'presort' is deprecated and has no effect. It will be removed in v0.24. You can suppress this warning by not passing any value to the 'presort' parameter. We also recommend using HistGradientBoosting models instead.\n",
      "  warnings.warn(\"The parameter 'presort' is deprecated and has no \"\n",
      "\n"
     ]
    },
    {
     "name": "stdout",
     "output_type": "stream",
     "text": [
      "100%|██████████| 44/44 [00:00<00:00, 76.49trial/s, best loss: 1.8734821444704821]\n",
      "[23:39:33] WARNING: ../src/objective/regression_obj.cu:174: reg:linear is now deprecated in favor of reg:squarederror.\n",
      "[23:39:35] WARNING: ../src/objective/regression_obj.cu:174: reg:linear is now deprecated in favor of reg:squarederror.\n",
      "100%|██████████| 45/45 [00:01<00:00, 29.13trial/s, best loss: 1.8734821444704821]\n",
      "100%|██████████| 46/46 [00:00<00:00, 396.94trial/s, best loss: 1.8734821444704821]\n",
      "100%|██████████| 47/47 [00:00<00:00, 340.27trial/s, best loss: 1.8734821444704821]\n",
      "100%|██████████| 48/48 [00:04<00:00, 10.72trial/s, best loss: 1.8734821444704821]\n",
      "100%|██████████| 49/49 [00:02<00:00, 18.27trial/s, best loss: 1.8734821444704821]\n",
      " 98%|█████████▊| 49/50 [00:00<?, ?trial/s, best loss=?]"
     ]
    },
    {
     "name": "stderr",
     "output_type": "stream",
     "text": [
      "/home/mai/anaconda3/lib/python3.8/site-packages/sklearn/ensemble/_gb.py:1337: FutureWarning: The parameter 'presort' is deprecated and has no effect. It will be removed in v0.24. You can suppress this warning by not passing any value to the 'presort' parameter. We also recommend using HistGradientBoosting models instead.\n",
      "  warnings.warn(\"The parameter 'presort' is deprecated and has no \"\n",
      "\n"
     ]
    },
    {
     "name": "stdout",
     "output_type": "stream",
     "text": [
      "100%|██████████| 50/50 [00:00<00:00, 240.36trial/s, best loss: 1.8734821444704821]\n"
     ]
    },
    {
     "name": "stderr",
     "output_type": "stream",
     "text": [
      "/home/mai/anaconda3/lib/python3.8/site-packages/sklearn/ensemble/_gb.py:1337: FutureWarning: The parameter 'presort' is deprecated and has no effect. It will be removed in v0.24. You can suppress this warning by not passing any value to the 'presort' parameter. We also recommend using HistGradientBoosting models instead.\n",
      "  warnings.warn(\"The parameter 'presort' is deprecated and has no \"\n"
     ]
    }
   ],
   "source": [
    "# perform the search\n",
    "model.fit(X_train, y_train)"
   ]
  },
  {
   "cell_type": "code",
   "execution_count": 6,
   "metadata": {},
   "outputs": [
    {
     "name": "stdout",
     "output_type": "stream",
     "text": [
      "MAE: 0.885\n",
      "{'learner': GradientBoostingRegressor(alpha=0.9, ccp_alpha=0.0, criterion='friedman_mse',\n",
      "                          init=None, learning_rate=0.11728711502207674,\n",
      "                          loss='lad', max_depth=3, max_features=None,\n",
      "                          max_leaf_nodes=None, min_impurity_decrease=0.0,\n",
      "                          min_impurity_split=None, min_samples_leaf=7,\n",
      "                          min_samples_split=2, min_weight_fraction_leaf=0.0,\n",
      "                          n_estimators=163, n_iter_no_change=None,\n",
      "                          presort='auto', random_state=3,\n",
      "                          subsample=0.9790978272009051, tol=0.0001,\n",
      "                          validation_fraction=0.1, verbose=0, warm_start=False), 'preprocs': (MinMaxScaler(copy=True, feature_range=(0.0, 1.0)),), 'ex_preprocs': ()}\n"
     ]
    }
   ],
   "source": [
    "# summarize performance\n",
    "mae = model.score(X_test, y_test)\n",
    "print(\"MAE: %.3f\" % mae)\n",
    "# summarize the best model\n",
    "print(model.best_model())"
   ]
  },
  {
   "cell_type": "markdown",
   "metadata": {},
   "source": [
    "read more in this article https://machinelearningmastery.com/hyperopt-for-automated-machine-learning-with-scikit-learn/"
   ]
  }
 ],
 "metadata": {
  "kernelspec": {
   "display_name": "Python 3",
   "language": "python",
   "name": "python3"
  },
  "language_info": {
   "codemirror_mode": {
    "name": "ipython",
    "version": 3
   },
   "file_extension": ".py",
   "mimetype": "text/x-python",
   "name": "python",
   "nbconvert_exporter": "python",
   "pygments_lexer": "ipython3",
   "version": "3.8.3"
  }
 },
 "nbformat": 4,
 "nbformat_minor": 4
}
